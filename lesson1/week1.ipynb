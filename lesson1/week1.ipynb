{
  "nbformat": 4,
  "nbformat_minor": 0,
  "metadata": {
    "colab": {
      "name": "Week 1 Exercises.ipynb",
      "provenance": [],
      "toc_visible": true
    },
    "kernelspec": {
      "name": "python3",
      "display_name": "Python 3"
    }
  },
  "cells": [
    {
      "cell_type": "markdown",
      "metadata": {
        "id": "2kY3vAfQWRmx",
        "colab_type": "text"
      },
      "source": [
        "# Exercise 1: PID\n",
        "In this exercise, you'll practice tuning PID constants for a straightforward system. Skip the next few blocks, down to the \"Beginning of Exercise\" heading (but remember to run each block in sequence, by hitting the play button)."
      ]
    },
    {
      "cell_type": "code",
      "metadata": {
        "id": "3akTpjFQN008",
        "colab_type": "code",
        "colab": {}
      },
      "source": [
        "import numpy as np\n",
        "import matplotlib.pyplot as plt\n",
        "import scipy.integrate as integrate\n",
        "from matplotlib import animation, rc"
      ],
      "execution_count": 0,
      "outputs": []
    },
    {
      "cell_type": "code",
      "metadata": {
        "id": "jmPFBWRHN7vZ",
        "colab_type": "code",
        "colab": {}
      },
      "source": [
        "def dynamics_simple(x, u):\n",
        "  return -x + u\n",
        "\n",
        "def dynamics_modified(x, u):\n",
        "  return -x + 0.8 * u"
      ],
      "execution_count": 0,
      "outputs": []
    },
    {
      "cell_type": "code",
      "metadata": {
        "id": "NeFZgf-vOPLT",
        "colab_type": "code",
        "colab": {}
      },
      "source": [
        "state = 1.0\n",
        "\n",
        "def simulate(x0, dynamics, control, ts, goal=None, animate=False):\n",
        "  x = x0\n",
        "  xs = []\n",
        "  us = []\n",
        "  for i, t in enumerate(ts[:-1]):\n",
        "    u = control(x)\n",
        "    xs = xs + [x]\n",
        "    us = us + [u]\n",
        "\n",
        "    dt = ts[i+1] - t\n",
        "    x = x + dt * dynamics(x, u)\n",
        "  \n",
        "  # Get x[t]\n",
        "  xs = xs + [x]\n",
        "\n",
        "  nx = len(xs)\n",
        "  xs = np.array(xs).reshape(nx)\n",
        "  us = np.array(us).reshape(nx - 1)\n",
        "\n",
        "  fig = plt.figure()\n",
        "  xlim = (np.min(ts), np.max(ts))\n",
        "  if goal is not None:\n",
        "    ylim = (min(np.min(xs).item(), np.min(us).item(), np.min(goal)) - 0.1, max(np.max(xs).item(), np.max(us).item(), np.max(goal)) + 0.1)\n",
        "  else:\n",
        "    ylim = (min(np.min(xs).item(), np.min(us).item()) - 0.1, max(np.max(xs).item(), np.max(us).item()) + 0.1)\n",
        "  ax = fig.add_subplot(111, autoscale_on=False, xlim=xlim, ylim=ylim)\n",
        "  ax.grid()\n",
        "\n",
        "  if goal is not None:\n",
        "    ax.plot(ts, goal, '.', lw=1)\n",
        "\n",
        "  ax.plot(ts, xs, '-', label='x')\n",
        "  ax.plot(ts[:-1], us, '-', label='u')\n",
        "  ax.legend()\n",
        "  plt.show()"
      ],
      "execution_count": 0,
      "outputs": []
    },
    {
      "cell_type": "markdown",
      "metadata": {
        "id": "W26jCIq_WpyB",
        "colab_type": "text"
      },
      "source": [
        "## Beginning of Exercise\n",
        "\n",
        "### 1. Open-Loop\n",
        "First, get a feel for the system by running it in open-loop mode. Modify the code below to return a constant value. Try to match the goal velocity.\n",
        "\n",
        "_Hint: initialize the notebook by clicking the cell below and pressing \"Runtime > Run Before\" in the menu._\n",
        "\n",
        "_Hint: Run the simulation by pressing the play button_"
      ]
    },
    {
      "cell_type": "code",
      "metadata": {
        "id": "wBYclV1qVi5d",
        "colab_type": "code",
        "colab": {}
      },
      "source": [
        " Lgoal = 2\n",
        "\n",
        "def control_open_loop(x):\n",
        "  return 0\n",
        "\n",
        "simulate(0.0, dynamics_simple, control_open_loop, np.linspace(0, 4, 100), [goal] * 100)"
      ],
      "execution_count": 0,
      "outputs": []
    },
    {
      "cell_type": "markdown",
      "metadata": {
        "id": "1ruzubYDYMof",
        "colab_type": "text"
      },
      "source": [
        "Now, try your same controller on a modified dynamics (in this case, I modelled in a 20% efficiency loss - not unreasonable for a mechanical system).\n",
        "\n",
        "_(You don't need to change anything, just run the next cell)_"
      ]
    },
    {
      "cell_type": "code",
      "metadata": {
        "id": "gNRirzhBX1GE",
        "colab_type": "code",
        "colab": {}
      },
      "source": [
        "simulate(0.0, dynamics_modified, control_open_loop, np.linspace(0, 4, 100), [goal] * 100)"
      ],
      "execution_count": 0,
      "outputs": []
    },
    {
      "cell_type": "markdown",
      "metadata": {
        "id": "hol2jmL1Yf4E",
        "colab_type": "text"
      },
      "source": [
        "### 2. Adding Feedback\n",
        "Next, add bang-bang feedback to the controller. When `x < goal`, apply full power of `u = 5`. Otherwise, let `u = 0`."
      ]
    },
    {
      "cell_type": "code",
      "metadata": {
        "id": "MwuUkh6eYB3C",
        "colab_type": "code",
        "colab": {}
      },
      "source": [
        "goal = 2\n",
        "\n",
        "def control_bang_bang(x):\n",
        "  return ...\n",
        "\n",
        "simulate(0.0, dynamics_simple, control_bang_bang, np.linspace(0, 4, 100), [goal] * 100)"
      ],
      "execution_count": 0,
      "outputs": []
    },
    {
      "cell_type": "markdown",
      "metadata": {
        "id": "dPIvHloxYkJD",
        "colab_type": "text"
      },
      "source": [
        "### 3. Proportional Response\n",
        "Write a proportional controller. As a reminder, you want to calculate the error and then set `u = k_p*e`.\n",
        "\n",
        "When you're done, run your controller on the modified dynamics (the second box) and see how it reacts."
      ]
    },
    {
      "cell_type": "code",
      "metadata": {
        "id": "2pvdIATBYoHK",
        "colab_type": "code",
        "colab": {}
      },
      "source": [
        "goal = 2\n",
        "\n",
        "def control_proportional(x):\n",
        "  # TODO: Find a useful value of k_p, calculate e, and calculate u from k_p and e\n",
        "  k_p = 0\n",
        "  e = 0\n",
        "  return 0\n",
        "\n",
        "simulate(0.0, dynamics_simple, control_proportional, np.linspace(0, 4, 100), [goal] * 100)"
      ],
      "execution_count": 0,
      "outputs": []
    },
    {
      "cell_type": "code",
      "metadata": {
        "id": "yfqIrPJOZKkR",
        "colab_type": "code",
        "colab": {}
      },
      "source": [
        "simulate(0.0, dynamics_modified, control_open_loop, np.linspace(0, 4, 100), [goal] * 100)"
      ],
      "execution_count": 0,
      "outputs": []
    },
    {
      "cell_type": "markdown",
      "metadata": {
        "id": "yTnoguRGaeb8",
        "colab_type": "text"
      },
      "source": [
        "### 4. PID(F) Controller\n",
        "Finish up by writing a full PID controller (plus feedforwards/open-loop, if you have time). See what happens if you change the constants.\n",
        "\n",
        "_Hint: start with your previous P controller. Then, calculate the derivative (by finite differences, `(e - e_last) / dt`) and integral (by summing `e*dt`). The `dt` for this simulation is 0.01._"
      ]
    },
    {
      "cell_type": "code",
      "metadata": {
        "id": "7HA-ut1maLtH",
        "colab_type": "code",
        "colab": {}
      },
      "source": [
        "goal = 2\n",
        "\n",
        "integral = 0\n",
        "last_error = 0\n",
        "\n",
        "def control_pid(x):\n",
        "  # TODO: Write a PID controller\n",
        "  k_p = 0\n",
        "  k_i = 0\n",
        "  k_d = 0\n",
        "\n",
        "  return 0\n",
        "\n",
        "simulate(0.0, dynamics_simple, control_pid, np.linspace(0, 4, 100), [goal] * 100)"
      ],
      "execution_count": 0,
      "outputs": []
    },
    {
      "cell_type": "markdown",
      "metadata": {
        "id": "q6yodLXxbKLT",
        "colab_type": "text"
      },
      "source": [
        "Run your PID controller on the modified dynamics. What happens?"
      ]
    },
    {
      "cell_type": "code",
      "metadata": {
        "id": "Is5AhoGVbEvk",
        "colab_type": "code",
        "colab": {}
      },
      "source": [
        "simulate(0.0, dynamics_modified, control_pid, np.linspace(0, 4, 100), [goal] * 100)"
      ],
      "execution_count": 0,
      "outputs": []
    },
    {
      "cell_type": "markdown",
      "metadata": {
        "id": "9ASk0tZRcsj3",
        "colab_type": "text"
      },
      "source": [
        "# Exercise 2: Modeling a motor\n",
        "The dynamics function I wrote up earlier was totally fudged. Made up. Garbage. Let's try writing up a real system.\n",
        "\n",
        "### Modeling a motor\n",
        "Let's try modeling a brushed DC motor. Take a look at the equations from the slides if you need a refresher."
      ]
    },
    {
      "cell_type": "code",
      "metadata": {
        "id": "GAb7X2nZc7u-",
        "colab_type": "code",
        "colab": {}
      },
      "source": [
        "Kt = 1.0\n",
        "Kv = 1.0\n",
        "gear_ratio = 2.0\n",
        "moment_inertia = 0.08\n",
        "motor_resistance = 0.02\n",
        "\n",
        "def dynamics(velocity, voltage):\n",
        "  # Calculate angular acceleration of the output shaft given voltage and angular velocity\n",
        "  pass"
      ],
      "execution_count": 0,
      "outputs": []
    },
    {
      "cell_type": "markdown",
      "metadata": {
        "id": "QrMGrDDMdTyu",
        "colab_type": "text"
      },
      "source": [
        "### 2. State-space form\n",
        "Next, let's model the dynamics just using matrices. The structure has been filled in, you just need to put in the constants."
      ]
    },
    {
      "cell_type": "code",
      "metadata": {
        "id": "8Ur6vy94dTDG",
        "colab_type": "code",
        "colab": {}
      },
      "source": [
        "A = np.array([0.0])\n",
        "B = np.array([0.0])\n",
        "\n",
        "def state_space_dynamics(x, u):\n",
        "  return A @ x + B @ u"
      ],
      "execution_count": 0,
      "outputs": []
    },
    {
      "cell_type": "markdown",
      "metadata": {
        "id": "HV9bHc5lh4DD",
        "colab_type": "text"
      },
      "source": [
        "### 3. Adding in position\n",
        "Finally, write a model with two state variables: `x = [position; velocity]`."
      ]
    },
    {
      "cell_type": "code",
      "metadata": {
        "id": "2ZGlyKeKh7X0",
        "colab_type": "code",
        "colab": {}
      },
      "source": [
        "A = np.array([[0.0, 0.0],\n",
        "              [0.0, 0.0]])\n",
        "B = np.array([[0.0],\n",
        "              [0.0]])\n",
        "\n",
        "def state_space_dynamics(x, u):\n",
        "  return A @ x + B @ u"
      ],
      "execution_count": 0,
      "outputs": []
    },
    {
      "cell_type": "markdown",
      "metadata": {
        "id": "_sYRHyvSfsxx",
        "colab_type": "text"
      },
      "source": [
        "## 4. Visualizing state-space plots\n",
        "We can use a _phase diagram_ to visualize a system, in addition to simply plotting the variables regularly.\n",
        "\n",
        "Run the box below to simulate the system with a step control input for a short period of time.\n",
        "(There are no changes you need to make)"
      ]
    },
    {
      "cell_type": "code",
      "metadata": {
        "id": "5s6mHczYgWNM",
        "colab_type": "code",
        "colab": {}
      },
      "source": [
        "def simulate_ss(x0, ts, controller, goal=None):\n",
        "  x = x0\n",
        "\n",
        "  x0s = []\n",
        "  x1s = []\n",
        "  r0s = []\n",
        "  r1s = []\n",
        "  us = []\n",
        "\n",
        "  for t in ts:\n",
        "    u = controller(x, t)\n",
        "    x0s.append(x[0])\n",
        "    x1s.append(x[1])\n",
        "    if goal is not None:\n",
        "      p, v = goal(t)\n",
        "      r0s.append(p)\n",
        "      r1s.append(v)\n",
        "    us.append(u[0])\n",
        "    x += 0.01 * state_space_dynamics(x, u)\n",
        "\n",
        "  fig, axs = plt.subplots(1, 2, figsize=(12, 6))\n",
        "\n",
        "  axs[0].plot(ts, x0s)\n",
        "  axs[0].plot(ts, x1s)\n",
        "  axs[0].plot(ts, us)\n",
        "  if goal:\n",
        "    axs[0].plot(ts, r0s)\n",
        "    axs[0].plot(ts, r1s)\n",
        "\n",
        "  axs[0].set_xlabel('time')\n",
        "  axs[0].legend(['pos', 'vel', 'input'] + (['goal pos', 'goal vel'] if goal else []))\n",
        "\n",
        "  min_x0, max_x0 = np.min(x0s), np.max(x0s)\n",
        "  min_x1, max_x1 = np.min(x1s), np.max(x1s)\n",
        "  min_u, max_u = np.min(us), np.max(us)\n",
        "  X0, X1 = np.meshgrid(np.linspace(min_x0 - 1, max_x0 + 1, 10), np.linspace(min_x1 - 1, max_x1 + 1, 10))\n",
        "  dX = np.zeros((2, X0.shape[0], X0.shape[1]))\n",
        "  for i in range(X0.shape[0]):\n",
        "    for j in range(X0.shape[1]):\n",
        "      X = np.array([X0[i, j], X1[i, j]])\n",
        "      dX[:, i, j] = state_space_dynamics(X, controller(X, 1000))\n",
        "\n",
        "  axs[1].quiver(X0, X1, dX[0], dX[1])\n",
        "  axs[1].plot(x0s, x1s)\n",
        "  axs[1].set_aspect('equal', 'box')\n",
        "  axs[1].set_xlabel('position')\n",
        "  axs[1].set_ylabel('velocity')\n",
        "\n",
        "  plt.show()\n",
        "simulate_ss(np.array([0, 0.]), np.linspace(0, 5, 500), lambda x, t: np.array([3.0 if t < 1.5 else 0.0]))"
      ],
      "execution_count": 0,
      "outputs": []
    },
    {
      "cell_type": "markdown",
      "metadata": {
        "id": "5i17J7XEnLGA",
        "colab_type": "text"
      },
      "source": [
        "# Exercise 3: Pole Placement\n",
        "Let's try to move the motor to a specific _position_ instead of a velocity. We'll use pole placement to design our controller.\n",
        "\n",
        "Because this is a 2-dimensional system, there are going to be exactly two poles. Remember that they can be either purely real or complex, and that solutions (the actual result of the simulation) will look like $ae^{\\lambda_1t}+be^{\\lambda_2t}$. What values of $\\lambda$ will tend to drive the system towards zero?\n",
        "\n",
        "Try a few different values for poles! Also, try making the poles include complex numbers."
      ]
    },
    {
      "cell_type": "code",
      "metadata": {
        "id": "pm0LZuKaoZYO",
        "colab_type": "code",
        "colab": {}
      },
      "source": [
        "from scipy.signal import place_poles\n",
        "\n",
        "# Use place_poles(A, B, poles) to design a controller. This will create\n",
        "# a system dx/dt = (A-BK)x\n",
        "fsfb = ... # Place poles\n",
        "K = fsfb.gain_matrix\n",
        "\n",
        "simulate_ss(np.array([5., 0]), np.linspace(0, 5, 500), lambda x, t: -(K @ x))"
      ],
      "execution_count": 0,
      "outputs": []
    },
    {
      "cell_type": "markdown",
      "metadata": {
        "id": "lahlUD67s8rK",
        "colab_type": "text"
      },
      "source": [
        "### Note on complex numbers\n",
        "If you haven't taken a linear algebra class (or if you have), you may be confused. How would a purely real matrix have imaginary eigenvalues? It turns out that this happens when the matrix _rotates_ the plane instead of just squishing and stretching it. Think about how this corresponds to what you saw above.\n",
        "\n",
        "You might have also noticed that the code above requires complex numbers in _pairs_ - if you want a pole at $a+bi$, you also need to have one at $a-bi$. The exact explanation for this takes a little explaining, but you can think of it (sort of) like this: when you multiply all of the eigenvalues together, you need to get a real number (this is the _determinant_ of the matrix). The numbers that act like this are the complex conjugates."
      ]
    },
    {
      "cell_type": "markdown",
      "metadata": {
        "id": "rXID_kxIvPS_",
        "colab_type": "text"
      },
      "source": [
        "## What if we want to get somewhere other than zero?\n",
        "How could we design a controller that gets to a nonzero position? (I'll give you a hint: error)."
      ]
    },
    {
      "cell_type": "code",
      "metadata": {
        "id": "p4rwxQTTvcXW",
        "colab_type": "code",
        "colab": {}
      },
      "source": [
        "goal = np.array([3.0, 0])\n",
        "def controller(x, t):\n",
        "  return -K @ x\n",
        "\n",
        "simulate_ss(np.array([5., 0]), np.linspace(0, 5, 500), controller)"
      ],
      "execution_count": 0,
      "outputs": []
    },
    {
      "cell_type": "markdown",
      "metadata": {
        "id": "pX7kuGiZwg03",
        "colab_type": "text"
      },
      "source": [
        "# Exercise 4: The Real World\n",
        "## Control Limits\n",
        "What happens when we add in control limits? Give it a try...\n",
        "\n",
        "Can you find a set of poles that makes the system stable, even with control limits? Try to think about why it isn't stable in the first place, even though the poles should be negative."
      ]
    },
    {
      "cell_type": "code",
      "metadata": {
        "id": "6vVqSu9owgPX",
        "colab_type": "code",
        "colab": {}
      },
      "source": [
        "# This is an unstable system...let's stabilize it.\n",
        "A = np.array([[0, 1],\n",
        "              [-1, 1.5]])\n",
        "\n",
        "# These poles are both negative, that should do it - right?\n",
        "K = place_poles(A, B, [-2, -3]).gain_matrix\n",
        "\n",
        "def controller(x, t):\n",
        "  # Clip to +-5\n",
        "  return np.clip(-K @ x, -5, 5)\n",
        "\n",
        "simulate_ss(np.array([2., 3]), np.linspace(0, 8, 800), controller)"
      ],
      "execution_count": 0,
      "outputs": []
    },
    {
      "cell_type": "markdown",
      "metadata": {
        "id": "_yj6Vboc3rFA",
        "colab_type": "text"
      },
      "source": [
        "## Motion Profiling\n",
        "\n",
        "We want to move more smoothly from the start to the goal. The start of a simple trapezoid profile has been written - finish it up!\n",
        "\n",
        "There are lots of ways to implement a trapezoidal profile, but the simplest is to calculate the start time of each of the three segments. Then, you can just interpolate when you're calculating the actual profile."
      ]
    },
    {
      "cell_type": "code",
      "metadata": {
        "id": "DWR01Vjn4FpJ",
        "colab_type": "code",
        "colab": {}
      },
      "source": [
        "class TrapezoidProfile:\n",
        "  def __init__(self, a_max, v_max, goal):\n",
        "    \"\"\"\n",
        "    Assumptions:\n",
        "     - a_max and v_max are positive\n",
        "     - goal is positive\n",
        "     - you start at zero velocity and zero position\n",
        "     - you will have enough time to ramp all the way up and all the way down\n",
        "    \"\"\"\n",
        "    self.a_max = a_max\n",
        "    self.v_max = v_max\n",
        "    self.goal = goal\n",
        "    # TODO: Calculate the time to accelerate to maximum velocity, and the distance\n",
        "    # you travel during this period\n",
        "    self.ramp_time = ...\n",
        "    self.ramp_distance = ...\n",
        "\n",
        "    # TODO: Calculate the time to ramp down to zero.\n",
        "    self.ramp_down_time = ...\n",
        "    self.ramp_down_distance = ...\n",
        "\n",
        "    # Calculate the distance left\n",
        "    self.constant_vel_distance = goal - self.ramp_distance - self.ramp_down_distance\n",
        "    self.constant_vel_time = self.constant_vel_distance / v_max\n",
        "\n",
        "  def calculate(self, t):\n",
        "    position = 0\n",
        "    velocity = 0\n",
        "    if t < self.ramp_time:\n",
        "      # Acceleration\n",
        "\n",
        "      # The time into this segment (since the beginning of the constant phase)\n",
        "      t0 = t\n",
        "\n",
        "      # TODO: Fill these out\n",
        "      position = ...\n",
        "      velocity = ...\n",
        "    elif t < self.ramp_time + self.constant_vel_time:\n",
        "      # Constant speed\n",
        "\n",
        "      # The time into this segment (since the beginning of the constant phase)\n",
        "      t1 = t - self.ramp_time\n",
        "\n",
        "      # Position at the beginning of this segment\n",
        "      d1 = self.ramp_distance\n",
        "\n",
        "      # TODO: Fill these out\n",
        "      position = d1 + ...\n",
        "      velocity = ...\n",
        "    elif t < self.ramp_time + self.constant_vel_time + self.ramp_down_time:\n",
        "      # Deceleration\n",
        "      \n",
        "      # The time into this segment (since the beginning of the deceleration phase)\n",
        "      t2 = t - self.ramp_time - self.constant_vel_time\n",
        "\n",
        "      # Position at the beginning of this segment\n",
        "      d2 = self.ramp_distance + self.constant_vel_distance\n",
        "      \n",
        "      # TODO: Fill these out\n",
        "      position = d2 + ...\n",
        "      velocity = ...\n",
        "    else:\n",
        "      # We're done\n",
        "      position = self.goal\n",
        "      velocity = 0\n",
        "    return position, velocity\n",
        "\n",
        "profile = TrapezoidProfile(1.0, 2.0, 8.0)\n",
        "ts = np.linspace(0, 8, 100)\n",
        "\n",
        "xs = []\n",
        "vs = []\n",
        "for t in ts:\n",
        "  p, v = profile.calculate(t)\n",
        "  xs.append(p)\n",
        "  vs.append(v)\n",
        "\n",
        "plt.plot(ts, xs)\n",
        "plt.plot(ts, vs)\n",
        "plt.legend(['x', 'v'])\n",
        "plt.show()"
      ],
      "execution_count": 0,
      "outputs": []
    },
    {
      "cell_type": "markdown",
      "metadata": {
        "id": "1Y2-2LaI_aBP",
        "colab_type": "text"
      },
      "source": [
        "## Motion Profiled Control\n",
        "Finally, use the profile as a setpoint for your controller. What happens?"
      ]
    },
    {
      "cell_type": "code",
      "metadata": {
        "id": "-slSp_3J_dSR",
        "colab_type": "code",
        "colab": {}
      },
      "source": [
        "# This is an unstable system...let's stabilize it.\n",
        "A = np.array([[0, 1],\n",
        "              [0, -0.5]])\n",
        "\n",
        "# These poles are both negative, that should do it - right?\n",
        "K = place_poles(A, B, [-2, -3]).gain_matrix\n",
        "\n",
        "profile = TrapezoidProfile(3.0, 2.0, 5.0)\n",
        "\n",
        "def controller(x, t):\n",
        "  p, v = profile.calculate(t)\n",
        "  goal = np.array([p, v])\n",
        "  # Clip to +-5\n",
        "  return np.clip(K @ (goal - x), -5, 5)\n",
        "\n",
        "simulate_ss(np.array([0., 0]), np.linspace(0, 5, 500), controller, lambda t: profile.calculate(t))"
      ],
      "execution_count": 0,
      "outputs": []
    }
  ]
}